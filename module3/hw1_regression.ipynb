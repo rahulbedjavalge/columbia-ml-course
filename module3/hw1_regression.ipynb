{
 "cells": [
  {
   "cell_type": "markdown",
   "id": "35620fbb",
   "metadata": {},
   "source": [
    "<h1>\n",
    "    Imports"
   ]
  },
  {
   "cell_type": "code",
   "execution_count": 4,
   "id": "8ee6349c",
   "metadata": {},
   "outputs": [],
   "source": [
    "import numpy as np\n",
    "import random"
   ]
  },
  {
   "cell_type": "markdown",
   "id": "baecd2d1",
   "metadata": {},
   "source": [
    "<h1>\n",
    "    Loading Data\n",
    "   "
   ]
  },
  {
   "cell_type": "code",
   "execution_count": 15,
   "id": "d55eaaf0",
   "metadata": {},
   "outputs": [],
   "source": [
    "X_train = np.genfromtxt('X_train-2.csv', delimiter = \",\")\n",
    "y_train = np.genfromtxt('y_train-1.csv')\n",
    "X_test = np.genfromtxt('X_test.csv', delimiter = \",\")\n",
    "\n",
    "lambda_input = int(random.randrange(2**15)%10)\n",
    "sigma2_input = float(random.randrange(2**15)%10 + 1)\n"
   ]
  },
  {
   "cell_type": "markdown",
   "id": "034ac0b0",
   "metadata": {},
   "source": [
    "<h1>\n",
    "Part 1"
   ]
  },
  {
   "cell_type": "markdown",
   "id": "11bc592d",
   "metadata": {},
   "source": [
    "PART 1: In this part you will implement the $\\ell_2$-regularized least squares linear regression algorithm we have been discussing (ridge regression). Recall from the lectures that this takes the form:\n",
    "\n",
    "$$w_{RR} = \\arg\\min_w \\|y - Xw\\|^2 + \\lambda\\|w\\|^2.$$\n",
    "\n",
    "Your task will be to write code that takes in data $y$ and $X$ and outputs $w_{RR}$ for an arbitrary value of $\\lambda$."
   ]
  },
  {
   "cell_type": "code",
   "execution_count": 40,
   "id": "602d8ad8",
   "metadata": {},
   "outputs": [],
   "source": [
    "## Solution for Part 1\n",
    "def part1():\n",
    "    ## Input : Arguments to the function\n",
    "    ## Return : wRR, Final list of values to write in the file\n",
    "    \n",
    "    lam = lambda_input\n",
    "    X = X_train\n",
    "    y = y_train.reshape(-1, 1)\n",
    "    \n",
    "    n, d = X.shape\n",
    "    I = np.eye(d)\n",
    "    wRR = np.linalg.inv(X.T @ X + lam * I) @ X.T @ y\n",
    "    \n",
    "    wRR_list = wRR.flatten().tolist()\n",
    "    \n",
    "    return wRR_list\n",
    "    \n",
    "    pass"
   ]
  },
  {
   "cell_type": "code",
   "execution_count": 42,
   "id": "01ec3d57",
   "metadata": {},
   "outputs": [
    {
     "name": "stdout",
     "output_type": "stream",
     "text": [
      "[-0.48942113544740873, -0.14326120023253536, -0.6750692667582878, -4.441432987230459, 0.05761700738240542, 2.649350829516372, -0.001491690381728028]\n"
     ]
    }
   ],
   "source": [
    "w_list = part1()\n",
    "print(w_list)"
   ]
  },
  {
   "cell_type": "markdown",
   "id": "5363d319",
   "metadata": {},
   "source": [
    "<h1>\n",
    "    Part 2"
   ]
  },
  {
   "cell_type": "markdown",
   "id": "3490c911",
   "metadata": {},
   "source": [
    "In the same code, you will also implement the active learning procedure discussed in Lecture 5. For this problem, we will provide you with an arbitrary setting of $\\lambda$ and $\\sigma^2$ and ask you to provide us with the first 10 locations you would measure from a set $\\mathcal{D} = \\{x\\}$ given a set of measured pairs (y, X). Please look over the slides carefully to remind yourself about the sequential evolution of the sets $\\mathcal{D}$ and (y,X)."
   ]
  },
  {
   "cell_type": "code",
   "execution_count": 43,
   "id": "6348f31d",
   "metadata": {},
   "outputs": [],
   "source": [
    "def part2():\n",
    "    ## Input: Uses global X_train, y_train, X_test, lambda_input, sigma2_input\n",
    "    ## Return: List of indices (0-based) of the 10 selected points from X_test\n",
    "    \n",
    "    # Convert everything to 2D/column format\n",
    "    X = X_train\n",
    "    y = y_train.reshape(-1, 1)\n",
    "    X_test_pool = X_test.copy()\n",
    "\n",
    "    lam = lambda_input\n",
    "    sigma2 = sigma2_input\n",
    "\n",
    "    selected_indices = []\n",
    "    available_indices = list(range(X_test.shape[0]))\n",
    "\n",
    "    for _ in range(10):\n",
    "        XTX_inv = np.linalg.inv(X.T @ X + lam * np.eye(X.shape[1]))\n",
    "        \n",
    "        # Compute variance for each x in X_test_pool\n",
    "        variances = []\n",
    "        for i in range(X_test_pool.shape[0]):\n",
    "            x = X_test_pool[i].reshape(1, -1)\n",
    "            var = sigma2 * (x @ XTX_inv @ x.T)\n",
    "            variances.append(var.item())  # convert 1x1 matrix to scalar\n",
    "\n",
    "        # Find index of test point with max variance\n",
    "        max_idx = np.argmax(variances)\n",
    "\n",
    "        # Record the index of selected point (original index from X_test)\n",
    "        selected_indices.append(available_indices[max_idx])\n",
    "\n",
    "        # Add selected point to training set\n",
    "        X = np.vstack([X, X_test_pool[max_idx]])\n",
    "        y = np.vstack([y, [[0]]])  # We don't know y, but it's required structurally\n",
    "\n",
    "        # Remove the selected point from test pool\n",
    "        X_test_pool = np.delete(X_test_pool, max_idx, axis=0)\n",
    "        del available_indices[max_idx]\n",
    "\n",
    "    return selected_indices\n"
   ]
  },
  {
   "cell_type": "code",
   "execution_count": 44,
   "id": "b7e03b84",
   "metadata": {},
   "outputs": [
    {
     "name": "stdout",
     "output_type": "stream",
     "text": [
      "[24, 15, 23, 26, 31, 30, 4, 19, 33, 14]\n"
     ]
    }
   ],
   "source": [
    "selected = part2()\n",
    "print(selected)\n"
   ]
  },
  {
   "cell_type": "code",
   "execution_count": null,
   "id": "7fc58a80",
   "metadata": {},
   "outputs": [],
   "source": []
  }
 ],
 "metadata": {
  "kernelspec": {
   "display_name": "venv",
   "language": "python",
   "name": "python3"
  },
  "language_info": {
   "codemirror_mode": {
    "name": "ipython",
    "version": 3
   },
   "file_extension": ".py",
   "mimetype": "text/x-python",
   "name": "python",
   "nbconvert_exporter": "python",
   "pygments_lexer": "ipython3",
   "version": "3.13.3"
  }
 },
 "nbformat": 4,
 "nbformat_minor": 5
}
