{
  "nbformat": 4,
  "nbformat_minor": 0,
  "metadata": {
    "colab": {
      "provenance": [],
      "gpuType": "T4",
      "authorship_tag": "ABX9TyNH/clVu1FBZdVQDwzMT8bY",
      "include_colab_link": true
    },
    "kernelspec": {
      "name": "python3",
      "display_name": "Python 3"
    },
    "language_info": {
      "name": "python"
    },
    "accelerator": "GPU"
  },
  "cells": [
    {
      "cell_type": "markdown",
      "metadata": {
        "id": "view-in-github",
        "colab_type": "text"
      },
      "source": [
        "<a href=\"https://colab.research.google.com/github/rahulbedjavalge/columbia-ml-course/blob/main/RNN.ipynb\" target=\"_parent\"><img src=\"https://colab.research.google.com/assets/colab-badge.svg\" alt=\"Open In Colab\"/></a>"
      ]
    },
    {
      "cell_type": "code",
      "execution_count": null,
      "metadata": {
        "id": "-ud3DqF7CrUX"
      },
      "outputs": [],
      "source": [
        "import tensorflow.keras as keras\n",
        "from tensorflow.keras.models import Sequential\n",
        "from tensorflow.keras.layers import LSTM, Embedding, Input, Dense, Flatten, Conv2D, MaxPooling2D, Activation\n",
        "from tensorflow.keras.applications import MobileNet\n",
        "from tensorflow.keras.utils import to_categorical\n",
        "from tensorflow.keras.preprocessing import sequence\n",
        "import numpy as np"
      ]
    },
    {
      "cell_type": "code",
      "source": [
        "from sklearn.datasets import fetch_20newsgroups"
      ],
      "metadata": {
        "id": "nEToBau2D_jm"
      },
      "execution_count": null,
      "outputs": []
    },
    {
      "cell_type": "code",
      "source": [
        "full_data = fetch_20newsgroups()"
      ],
      "metadata": {
        "id": "WOxn84pvEGjg"
      },
      "execution_count": null,
      "outputs": []
    },
    {
      "cell_type": "code",
      "source": [
        "my_categories = ['sci.space','sci.med']"
      ],
      "metadata": {
        "id": "-5lyymLJEPVa"
      },
      "execution_count": null,
      "outputs": []
    },
    {
      "cell_type": "code",
      "source": [
        "del(full_data)"
      ],
      "metadata": {
        "id": "Zn9ysR0GE585"
      },
      "execution_count": null,
      "outputs": []
    },
    {
      "cell_type": "code",
      "source": [
        "data = fetch_20newsgroups(categories=my_categories)"
      ],
      "metadata": {
        "id": "PyvMEVBzFBvI"
      },
      "execution_count": null,
      "outputs": []
    },
    {
      "cell_type": "code",
      "source": [
        "X = data['data']"
      ],
      "metadata": {
        "id": "otVBHUW8GeC8"
      },
      "execution_count": null,
      "outputs": []
    },
    {
      "cell_type": "code",
      "source": [
        "y = data['target']"
      ],
      "metadata": {
        "id": "B7fSGFsgG0EO"
      },
      "execution_count": null,
      "outputs": []
    },
    {
      "cell_type": "code",
      "source": [
        "import re"
      ],
      "metadata": {
        "id": "QNsCSujkFREY"
      },
      "execution_count": null,
      "outputs": []
    },
    {
      "cell_type": "code",
      "source": [
        "def cleaning_text(text):\n",
        "    clean_text = []\n",
        "    for email in text:\n",
        "        clean_text.append(re.findall('(?u)\\\\b\\\\w\\\\w+\\\\b', email))\n",
        "    return clean_text"
      ],
      "metadata": {
        "id": "Tky03TWqGC-u"
      },
      "execution_count": null,
      "outputs": []
    },
    {
      "cell_type": "code",
      "source": [
        "clean_X = cleaning_text(X)\n",
        "print(f'number of emails: {len(clean_X)} number if words in emails: {len(clean_X[0])}')"
      ],
      "metadata": {
        "colab": {
          "base_uri": "https://localhost:8080/"
        },
        "id": "A2xQzK_8GDmu",
        "outputId": "25178969-e2c7-47c2-ab9c-a37c550a57f8"
      },
      "execution_count": null,
      "outputs": [
        {
          "output_type": "stream",
          "name": "stdout",
          "text": [
            "number of emails: 1187 number if words in emails: 91\n"
          ]
        }
      ]
    },
    {
      "cell_type": "code",
      "source": [
        "vocab_list = []\n",
        "for email in clean_X:\n",
        "    for word in email:\n",
        "        vocab_list.append(word)\n",
        "\n",
        "vocab_list = list(set(vocab_list))\n",
        "len(vocab_list)"
      ],
      "metadata": {
        "colab": {
          "base_uri": "https://localhost:8080/"
        },
        "id": "2iJD3_ozGZE2",
        "outputId": "522d551d-c964-43f6-ed27-9cd69407199c"
      },
      "execution_count": null,
      "outputs": [
        {
          "output_type": "execute_result",
          "data": {
            "text/plain": [
              "31696"
            ]
          },
          "metadata": {},
          "execution_count": 14
        }
      ]
    },
    {
      "cell_type": "code",
      "source": [
        "word_to_num = {}\n",
        "num_to_word = {}\n",
        "\n",
        "for i, word in enumerate(vocab_list):\n",
        "    num_to_word[i+1] = word\n",
        "    word_to_num[word] = i+1\n"
      ],
      "metadata": {
        "id": "CrsIxlSHHJoD"
      },
      "execution_count": null,
      "outputs": []
    },
    {
      "cell_type": "code",
      "source": [
        "word_to_num"
      ],
      "metadata": {
        "colab": {
          "base_uri": "https://localhost:8080/"
        },
        "id": "80QrnpFSHM7H",
        "outputId": "a063193a-1aab-496f-8e39-7e1630426ca4"
      },
      "execution_count": null,
      "outputs": [
        {
          "output_type": "execute_result",
          "data": {
            "text/plain": [
              "{'do': 1,\n",
              " 'PM10': 2,\n",
              " 'Greenville': 3,\n",
              " 'Ciba': 4,\n",
              " 'composites': 5,\n",
              " 'partway': 6,\n",
              " 'extruded': 7,\n",
              " 'flora': 8,\n",
              " 'Dinner': 9,\n",
              " 'industrially': 10,\n",
              " 'ekcolor': 11,\n",
              " 'Rutherford': 12,\n",
              " 'Sternberg': 13,\n",
              " 'Lab': 14,\n",
              " 'Hobday': 15,\n",
              " 'immature': 16,\n",
              " 'GETS': 17,\n",
              " 'tooke': 18,\n",
              " 'zwarte': 19,\n",
              " 'feel': 20,\n",
              " '4620': 21,\n",
              " 'Derive': 22,\n",
              " 'fd': 23,\n",
              " 'SYang': 24,\n",
              " 'thoughts': 25,\n",
              " 'employee': 26,\n",
              " 'astronaut_733694515': 27,\n",
              " '42211': 28,\n",
              " 'Nutrasweet': 29,\n",
              " 'articulated': 30,\n",
              " 'unsubscribed': 31,\n",
              " 'sterren': 32,\n",
              " 'Burroughs': 33,\n",
              " 'REVENUES': 34,\n",
              " 'sbrun': 35,\n",
              " 'incompatible': 36,\n",
              " 'Doctoral': 37,\n",
              " 'unauthorized': 38,\n",
              " 'delab': 39,\n",
              " 'npm': 40,\n",
              " 'pulling': 41,\n",
              " 'inordinate': 42,\n",
              " 'INFO': 43,\n",
              " 'gabe': 44,\n",
              " 'MNRAS': 45,\n",
              " 'operation': 46,\n",
              " 'Dismutase': 47,\n",
              " 'supports': 48,\n",
              " 'sasghm': 49,\n",
              " 'p17': 50,\n",
              " 'dumbells': 51,\n",
              " 'PH': 52,\n",
              " 'Range': 53,\n",
              " 'antiquated': 54,\n",
              " 'investigated': 55,\n",
              " '03': 56,\n",
              " '1K9': 57,\n",
              " 'PROPONENT': 58,\n",
              " 'Mazur': 59,\n",
              " '642': 60,\n",
              " 'judith': 61,\n",
              " 'Cherkauer': 62,\n",
              " 'Europeenne': 63,\n",
              " 'teenager': 64,\n",
              " 'WASPs': 65,\n",
              " 'Left': 66,\n",
              " 'specialties': 67,\n",
              " 'gen': 68,\n",
              " 'flux': 69,\n",
              " 'C5JDuo': 70,\n",
              " 'Unionist': 71,\n",
              " 'airmail': 72,\n",
              " 'unscrupulous': 73,\n",
              " 'parentheses': 74,\n",
              " 'Kalat': 75,\n",
              " 'Sibbald': 76,\n",
              " 'sanguine': 77,\n",
              " 'Piscataway': 78,\n",
              " 'BATH': 79,\n",
              " 'barash': 80,\n",
              " 'IDEAS': 81,\n",
              " 'Molnar': 82,\n",
              " 'Proton': 83,\n",
              " 'glands': 84,\n",
              " 'durham': 85,\n",
              " 'Eastman': 86,\n",
              " 'LESC': 87,\n",
              " '77058': 88,\n",
              " 'bespreken': 89,\n",
              " 'EM': 90,\n",
              " 'Neu': 91,\n",
              " 'Logn': 92,\n",
              " 'Janet': 93,\n",
              " 'watered': 94,\n",
              " 'ax25': 95,\n",
              " 'placebo': 96,\n",
              " 'Inference': 97,\n",
              " 'design': 98,\n",
              " 'agc': 99,\n",
              " 'ban': 100,\n",
              " 'bps': 101,\n",
              " 'screening': 102,\n",
              " 'Secaris': 103,\n",
              " 'Timothy': 104,\n",
              " 'dying': 105,\n",
              " 'KpJ': 106,\n",
              " 'Dance': 107,\n",
              " 'chest': 108,\n",
              " '1992': 109,\n",
              " 'newton': 110,\n",
              " 'Santa': 111,\n",
              " '23223': 112,\n",
              " 'SELECT': 113,\n",
              " 'monopoly': 114,\n",
              " 'Scheme': 115,\n",
              " 'HSD': 116,\n",
              " 'cislabs': 117,\n",
              " 'modulated': 118,\n",
              " 'PASADENA': 119,\n",
              " 'bachelor': 120,\n",
              " 'wondered': 121,\n",
              " 'lander': 122,\n",
              " 'addresses': 123,\n",
              " 'ETC': 124,\n",
              " 'Dos': 125,\n",
              " '_db_': 126,\n",
              " 'overwhelming': 127,\n",
              " 'TSUDA': 128,\n",
              " 'quilty': 129,\n",
              " 'Converter': 130,\n",
              " 'modality': 131,\n",
              " '7806': 132,\n",
              " 'POB': 133,\n",
              " 'melitin': 134,\n",
              " 'WNET': 135,\n",
              " 'defended': 136,\n",
              " 'mammalian': 137,\n",
              " 'USSF': 138,\n",
              " 'inquiries': 139,\n",
              " 'metastases': 140,\n",
              " '144358': 141,\n",
              " 'preliminary': 142,\n",
              " '936': 143,\n",
              " 'rotated': 144,\n",
              " 'Journey': 145,\n",
              " 'Ueckart': 146,\n",
              " 'bidding': 147,\n",
              " 'Berg': 148,\n",
              " 'Hamilton': 149,\n",
              " 'clout': 150,\n",
              " 'tourism': 151,\n",
              " 'undertaking': 152,\n",
              " '200': 153,\n",
              " 'homogeneity': 154,\n",
              " 'OVER': 155,\n",
              " 'feces': 156,\n",
              " 'QUESTIONS': 157,\n",
              " 'inflatables': 158,\n",
              " 'BRFSS': 159,\n",
              " 'SCO': 160,\n",
              " 'bruises': 161,\n",
              " 'ternal': 162,\n",
              " 'Yorktown': 163,\n",
              " 'Sox': 164,\n",
              " 'loved': 165,\n",
              " '48p': 166,\n",
              " 'Chryse': 167,\n",
              " 'CR': 168,\n",
              " 'sundar': 169,\n",
              " 'ysub': 170,\n",
              " 'checking': 171,\n",
              " 'Nordenberg': 172,\n",
              " 'electrolytes': 173,\n",
              " 'resupply': 174,\n",
              " 'anger': 175,\n",
              " 'pray': 176,\n",
              " 'SPONSOR': 177,\n",
              " 'cornea': 178,\n",
              " 'quake': 179,\n",
              " 'airspace': 180,\n",
              " 'chiltepins': 181,\n",
              " '121236': 182,\n",
              " 'balance': 183,\n",
              " 'remarkable': 184,\n",
              " 'Lucier': 185,\n",
              " 'caplet': 186,\n",
              " 'rickb': 187,\n",
              " 'cordell': 188,\n",
              " 'Nicole': 189,\n",
              " 'shielded': 190,\n",
              " 'Devi': 191,\n",
              " 'Trek': 192,\n",
              " 'wife': 193,\n",
              " 'period': 194,\n",
              " 'Starflight': 195,\n",
              " 'uncecs': 196,\n",
              " 'steve': 197,\n",
              " 'restaurants': 198,\n",
              " 'endometriosis': 199,\n",
              " '4636': 200,\n",
              " 'addressing': 201,\n",
              " 'AutoCAD': 202,\n",
              " 'hjistorical': 203,\n",
              " 'gu': 204,\n",
              " 'Color': 205,\n",
              " 'Evanston': 206,\n",
              " 'ANH': 207,\n",
              " 'pages': 208,\n",
              " 'lacks': 209,\n",
              " 'nor': 210,\n",
              " 'bug': 211,\n",
              " 'veikko': 212,\n",
              " 'school': 213,\n",
              " 'mechanically': 214,\n",
              " 'impressive': 215,\n",
              " 'stomache': 216,\n",
              " 'cautiously': 217,\n",
              " 'STARFLIGHT': 218,\n",
              " 'killing': 219,\n",
              " 'Colo': 220,\n",
              " 'lipoxygenase': 221,\n",
              " '6330': 222,\n",
              " 'glaring': 223,\n",
              " 'kepko': 224,\n",
              " 'experiment': 225,\n",
              " 'VIP': 226,\n",
              " 'Milt': 227,\n",
              " 'phoenix': 228,\n",
              " 'barrel': 229,\n",
              " 'mean': 230,\n",
              " 'corrections': 231,\n",
              " 'currently': 232,\n",
              " 'Broadcasting': 233,\n",
              " 'appoximately': 234,\n",
              " 'art': 235,\n",
              " 'antenna': 236,\n",
              " 'LUNATIK': 237,\n",
              " 'mun': 238,\n",
              " 'demonstrations': 239,\n",
              " '184369999999999994E': 240,\n",
              " 'Kramer': 241,\n",
              " '_nucleus_': 242,\n",
              " 'papilloma': 243,\n",
              " 'Microsoft': 244,\n",
              " 'Sailing': 245,\n",
              " 'Romans': 246,\n",
              " 'oranges': 247,\n",
              " 'philosophizing': 248,\n",
              " 'Alexei': 249,\n",
              " 'Handbook_': 250,\n",
              " 'circulated': 251,\n",
              " 'wells': 252,\n",
              " 'silverberg': 253,\n",
              " 'operating': 254,\n",
              " 'noodle': 255,\n",
              " 'Humans': 256,\n",
              " 'explode': 257,\n",
              " 'Australasian': 258,\n",
              " 'cit': 259,\n",
              " 'Svc': 260,\n",
              " 'absorbs': 261,\n",
              " 'VNEWS': 262,\n",
              " 'next': 263,\n",
              " 'Strategic': 264,\n",
              " 'volatiles': 265,\n",
              " 'constant': 266,\n",
              " 'C5L2x5': 267,\n",
              " 'describable': 268,\n",
              " 'Neural': 269,\n",
              " 'eternal': 270,\n",
              " 'VACANT': 271,\n",
              " 'CW': 272,\n",
              " '231544': 273,\n",
              " 'dfci': 274,\n",
              " 'mending': 275,\n",
              " 'unisa': 276,\n",
              " 'Behavior': 277,\n",
              " '15845': 278,\n",
              " 'Jensvold': 279,\n",
              " 'spacewalk': 280,\n",
              " 'Marco': 281,\n",
              " 'winded': 282,\n",
              " 'hospitalisation': 283,\n",
              " 'Grade': 284,\n",
              " 'Simple': 285,\n",
              " 'Federale': 286,\n",
              " 'uwm': 287,\n",
              " 'versus': 288,\n",
              " 'VEGA': 289,\n",
              " '4B7': 290,\n",
              " 'extraneously': 291,\n",
              " '201942': 292,\n",
              " 'lrc': 293,\n",
              " 'Barr': 294,\n",
              " 'Television': 295,\n",
              " 'Physicians': 296,\n",
              " 'toughing': 297,\n",
              " 'tissue': 298,\n",
              " '29219': 299,\n",
              " 'etched': 300,\n",
              " 'A160': 301,\n",
              " 'Succulence': 302,\n",
              " 'MPH': 303,\n",
              " 'Landing': 304,\n",
              " 'Bytof': 305,\n",
              " 'NEVADA': 306,\n",
              " '0000001200': 307,\n",
              " 'Stay': 308,\n",
              " 'nader': 309,\n",
              " 'wallace': 310,\n",
              " 'Dianne': 311,\n",
              " 'REASONS': 312,\n",
              " 'intermittent': 313,\n",
              " '0004847546': 314,\n",
              " 'far': 315,\n",
              " 'warned': 316,\n",
              " '742': 317,\n",
              " 'assessed': 318,\n",
              " 'blasphemous': 319,\n",
              " 'Tickets': 320,\n",
              " 'Lactose': 321,\n",
              " 'Fish': 322,\n",
              " 'sterrenkunde': 323,\n",
              " '155313': 324,\n",
              " 'enhancers': 325,\n",
              " 'farmers': 326,\n",
              " 'quotation': 327,\n",
              " 'Flinn': 328,\n",
              " 'Defects': 329,\n",
              " 'Divine': 330,\n",
              " 'mc': 331,\n",
              " 'TAMVM1': 332,\n",
              " 'CHIPS': 333,\n",
              " 'GE': 334,\n",
              " 'GSM': 335,\n",
              " 'Name': 336,\n",
              " 'Imagery': 337,\n",
              " 'SETS': 338,\n",
              " 'joke': 339,\n",
              " 'THIP': 340,\n",
              " 'contours': 341,\n",
              " 'result': 342,\n",
              " 'Welfare': 343,\n",
              " 'Moonbase': 344,\n",
              " 'Spoofing': 345,\n",
              " 'latest': 346,\n",
              " 'QUIT': 347,\n",
              " 'A01': 348,\n",
              " 'whoever': 349,\n",
              " 'Norway': 350,\n",
              " 'telepathy': 351,\n",
              " 'Poly': 352,\n",
              " 'Spacecraft': 353,\n",
              " 'dagvoorzitter': 354,\n",
              " 'Weren': 355,\n",
              " 'Reverse': 356,\n",
              " 'Help': 357,\n",
              " '1993Apr6': 358,\n",
              " 'billin': 359,\n",
              " 'Res': 360,\n",
              " 'radical': 361,\n",
              " 'willner': 362,\n",
              " 'adverts': 363,\n",
              " 'tamu': 364,\n",
              " 'Retrieve': 365,\n",
              " 'eugenics': 366,\n",
              " 'wollman': 367,\n",
              " 'planning': 368,\n",
              " 'classification': 369,\n",
              " 'remedies': 370,\n",
              " 'extent': 371,\n",
              " '4E25': 372,\n",
              " 'Auto': 373,\n",
              " 'Astounding': 374,\n",
              " 'cheif': 375,\n",
              " 'Sponable': 376,\n",
              " 'GT': 377,\n",
              " 'Submillimeter': 378,\n",
              " 'teabags': 379,\n",
              " 'capitalization': 380,\n",
              " 'Eclipse': 381,\n",
              " 'Bi': 382,\n",
              " 'senator': 383,\n",
              " 'deals': 384,\n",
              " 'analogous': 385,\n",
              " 'Thoughtful': 386,\n",
              " 'shadows': 387,\n",
              " 'tome': 388,\n",
              " 'RELATIONSHIP': 389,\n",
              " 'intro': 390,\n",
              " 'tradeoffs': 391,\n",
              " 'C5qMJJ': 392,\n",
              " 'oai': 393,\n",
              " 'boulder': 394,\n",
              " 'Artemis': 395,\n",
              " '1200': 396,\n",
              " 'jealousies': 397,\n",
              " 'imprisonment': 398,\n",
              " 'CNA': 399,\n",
              " 'conversion': 400,\n",
              " 'cured': 401,\n",
              " 'Tripoli': 402,\n",
              " 'stray': 403,\n",
              " 'carlf': 404,\n",
              " 'gregory': 405,\n",
              " 'cigarette': 406,\n",
              " 'Some': 407,\n",
              " 'observable': 408,\n",
              " 'SURVEILLANCE': 409,\n",
              " 'ecn': 410,\n",
              " '12th': 411,\n",
              " 'Aaronson': 412,\n",
              " 'anarchy': 413,\n",
              " 'Shalala': 414,\n",
              " 'Repeatable': 415,\n",
              " 'fertile': 416,\n",
              " 'indexed': 417,\n",
              " 'advertisement': 418,\n",
              " 'Pellet': 419,\n",
              " 'Coccidiomycosis': 420,\n",
              " 'Lunger': 421,\n",
              " '2592': 422,\n",
              " 'adwyer': 423,\n",
              " 'Mitsubishi': 424,\n",
              " 'Chome': 425,\n",
              " 'HIS': 426,\n",
              " 'quality': 427,\n",
              " 'itd': 428,\n",
              " 'Ontario': 429,\n",
              " 'cardiothoracic': 430,\n",
              " 'twilight': 431,\n",
              " 'wasn': 432,\n",
              " 'Budweiser': 433,\n",
              " 'emotions': 434,\n",
              " 'managing': 435,\n",
              " 'farm': 436,\n",
              " 'limbo': 437,\n",
              " 'pronounced': 438,\n",
              " 'wheat': 439,\n",
              " '26887': 440,\n",
              " '004627': 441,\n",
              " 'documents': 442,\n",
              " 'aan': 443,\n",
              " 'Beacon': 444,\n",
              " 'Viscious': 445,\n",
              " '21228': 446,\n",
              " 'MAKING': 447,\n",
              " 'Broderick': 448,\n",
              " 'oily': 449,\n",
              " 'daver': 450,\n",
              " 'pets': 451,\n",
              " 'privacy': 452,\n",
              " 'C5suMG': 453,\n",
              " 'hyperestrogenemia': 454,\n",
              " 'frontier': 455,\n",
              " 'ee': 456,\n",
              " 'plunger': 457,\n",
              " 'Advanced': 458,\n",
              " 'Treatable': 459,\n",
              " '144340': 460,\n",
              " 'Jules': 461,\n",
              " 'flyby': 462,\n",
              " 'About': 463,\n",
              " 'satisfactory': 464,\n",
              " 'Humlock': 465,\n",
              " 'never': 466,\n",
              " 'chris': 467,\n",
              " 'unchanging': 468,\n",
              " 'practitioner': 469,\n",
              " 'suddenly': 470,\n",
              " 'geven': 471,\n",
              " 'Dev': 472,\n",
              " 'Registry': 473,\n",
              " 'CFV': 474,\n",
              " 'LW': 475,\n",
              " '363002': 476,\n",
              " 'hemophilia': 477,\n",
              " 'envnet': 478,\n",
              " 'revisionists': 479,\n",
              " 'polar': 480,\n",
              " 'empathetic': 481,\n",
              " 'dropped': 482,\n",
              " 'cotton': 483,\n",
              " 'Stat': 484,\n",
              " 'assembled': 485,\n",
              " 'pharmacy': 486,\n",
              " 'DOGMA': 487,\n",
              " 'possibility': 488,\n",
              " 'patric': 489,\n",
              " 'guys': 490,\n",
              " 'estimates': 491,\n",
              " 'Bonnes': 492,\n",
              " '2003': 493,\n",
              " 'forum': 494,\n",
              " 'Flying': 495,\n",
              " 'germanium': 496,\n",
              " 'noting': 497,\n",
              " 'acoustical': 498,\n",
              " 'salaries': 499,\n",
              " 'kodak': 500,\n",
              " 'Neisseria': 501,\n",
              " 'soy': 502,\n",
              " 'refreshments': 503,\n",
              " 'thesis': 504,\n",
              " 'responsive': 505,\n",
              " 'introduce': 506,\n",
              " 'Independently': 507,\n",
              " '4431': 508,\n",
              " 'Lifetime': 509,\n",
              " 'Playback': 510,\n",
              " 'negatives': 511,\n",
              " 'dt': 512,\n",
              " 'gaul': 513,\n",
              " 'Candee': 514,\n",
              " '1906': 515,\n",
              " '001642': 516,\n",
              " 'Acts': 517,\n",
              " 'focuses': 518,\n",
              " 'mksol': 519,\n",
              " 'player': 520,\n",
              " 'Anugula': 521,\n",
              " 'tesla': 522,\n",
              " '6364': 523,\n",
              " 'Mosher': 524,\n",
              " 'lkg': 525,\n",
              " 'knock': 526,\n",
              " 'misuse': 527,\n",
              " 'timeline': 528,\n",
              " 'Ti': 529,\n",
              " 'TAU': 530,\n",
              " 'Trotman': 531,\n",
              " 'B4B': 532,\n",
              " 'Inner': 533,\n",
              " 'kari': 534,\n",
              " 'bizarrely': 535,\n",
              " 'Sjolander': 536,\n",
              " '1q09ud': 537,\n",
              " 'ucscb': 538,\n",
              " 'statements': 539,\n",
              " '8153': 540,\n",
              " 'hazy': 541,\n",
              " 'subacute': 542,\n",
              " 'Neuron': 543,\n",
              " 'Request': 544,\n",
              " 'Monte': 545,\n",
              " 'republish': 546,\n",
              " 'Gorizont': 547,\n",
              " 'removal': 548,\n",
              " '945': 549,\n",
              " 'seemingly': 550,\n",
              " 'calculate': 551,\n",
              " 'delcoelect': 552,\n",
              " 'ghsvax': 553,\n",
              " 'jjmorris': 554,\n",
              " 'drain': 555,\n",
              " 'Univ': 556,\n",
              " 'distribute': 557,\n",
              " 'geode03': 558,\n",
              " 'cig': 559,\n",
              " 'extrapolate': 560,\n",
              " 'stages': 561,\n",
              " 'Matias': 562,\n",
              " 'commitments': 563,\n",
              " 'programmer': 564,\n",
              " 'Zisfein': 565,\n",
              " 'objective': 566,\n",
              " 'advise': 567,\n",
              " 'feds': 568,\n",
              " 'Gonna': 569,\n",
              " 'Godnig': 570,\n",
              " 'MonoMethyl': 571,\n",
              " 'secret': 572,\n",
              " 'Kwalick': 573,\n",
              " 'Baikonour': 574,\n",
              " 'lumps': 575,\n",
              " 'lccsd': 576,\n",
              " 'Jzer': 577,\n",
              " 'radiator': 578,\n",
              " 'personally': 579,\n",
              " 'sbrenner': 580,\n",
              " 'MACaloon': 581,\n",
              " 'curiousities': 582,\n",
              " 'probe': 583,\n",
              " 'scholarly': 584,\n",
              " 'subgrouped': 585,\n",
              " 'Sanguine': 586,\n",
              " 'email': 587,\n",
              " 'ovule': 588,\n",
              " '1991': 589,\n",
              " 'Relations': 590,\n",
              " 'Ear': 591,\n",
              " 'absurdum': 592,\n",
              " 'zwaartepunten': 593,\n",
              " 'Westchester': 594,\n",
              " 'halderc': 595,\n",
              " 'supplies': 596,\n",
              " '_Spherical': 597,\n",
              " 'JMR': 598,\n",
              " 'Ecuador': 599,\n",
              " 'SYSMGR': 600,\n",
              " '3290': 601,\n",
              " 'syntactic': 602,\n",
              " 'plant': 603,\n",
              " 'Abbott': 604,\n",
              " '7666': 605,\n",
              " 'davelpcSanDiego': 606,\n",
              " 'huji': 607,\n",
              " 'evaporation': 608,\n",
              " 'collaborative': 609,\n",
              " 'larynx': 610,\n",
              " 'Mirkin': 611,\n",
              " 'F5': 612,\n",
              " 'erected': 613,\n",
              " 'Dacumos': 614,\n",
              " 'Larsons': 615,\n",
              " 'Story': 616,\n",
              " 'intersteller': 617,\n",
              " 'McClearn': 618,\n",
              " 'leveling': 619,\n",
              " 'weren': 620,\n",
              " 'chvpkh': 621,\n",
              " 'Utilization': 622,\n",
              " 'acne': 623,\n",
              " 'advice': 624,\n",
              " 'princeton': 625,\n",
              " 'antarctic': 626,\n",
              " 'math30': 627,\n",
              " 'SINCE': 628,\n",
              " 'bigger': 629,\n",
              " 'Lucasian': 630,\n",
              " 'definition': 631,\n",
              " 'Personalities': 632,\n",
              " 'Perkowski': 633,\n",
              " 'ncr': 634,\n",
              " 'starcat': 635,\n",
              " 'matthew_feulner': 636,\n",
              " 'typein': 637,\n",
              " 'hardware': 638,\n",
              " 'butt': 639,\n",
              " 'relies': 640,\n",
              " 'heating': 641,\n",
              " '1qk1taINNmr4': 642,\n",
              " 'birdshot': 643,\n",
              " 'located': 644,\n",
              " 'Families': 645,\n",
              " 'digestive': 646,\n",
              " 'Your': 647,\n",
              " '0029': 648,\n",
              " 'ucc': 649,\n",
              " '205726': 650,\n",
              " 'toads': 651,\n",
              " 'knowlegeable': 652,\n",
              " 'destabilization': 653,\n",
              " 'protocols': 654,\n",
              " 'favored': 655,\n",
              " 'TNEDDERH': 656,\n",
              " 'mrw9e': 657,\n",
              " 'arythmia': 658,\n",
              " 'wraps': 659,\n",
              " 'Luft': 660,\n",
              " 'TOSHITAKA': 661,\n",
              " 'Simpson': 662,\n",
              " 'targets': 663,\n",
              " '620': 664,\n",
              " 'vague': 665,\n",
              " '165716': 666,\n",
              " 'Closely': 667,\n",
              " '19104': 668,\n",
              " 'Finney': 669,\n",
              " 'Diets': 670,\n",
              " 'carpal': 671,\n",
              " 'Gas': 672,\n",
              " '2bc16ada': 673,\n",
              " 'Wrist': 674,\n",
              " '2016': 675,\n",
              " 'furnish': 676,\n",
              " 'wasting': 677,\n",
              " 'stevens': 678,\n",
              " 'apologizing': 679,\n",
              " 'so': 680,\n",
              " '2BBCB8C3': 681,\n",
              " 'obligatory': 682,\n",
              " 'seal': 683,\n",
              " 'Schumacher': 684,\n",
              " 'fatty': 685,\n",
              " 'BITNET': 686,\n",
              " 'comatose': 687,\n",
              " 'Dit': 688,\n",
              " 'organism': 689,\n",
              " 'experimenting': 690,\n",
              " 'Reliablity': 691,\n",
              " 'Taligent': 692,\n",
              " 'islands': 693,\n",
              " 'headlamps': 694,\n",
              " 'undertook': 695,\n",
              " 'underway': 696,\n",
              " 'greatness': 697,\n",
              " 'Naming': 698,\n",
              " 'Ecole': 699,\n",
              " 'lunatics': 700,\n",
              " 'ignite': 701,\n",
              " 'MANAGEMENT': 702,\n",
              " 'hyperspace': 703,\n",
              " 'USSR': 704,\n",
              " 'Stanway': 705,\n",
              " 'datasets': 706,\n",
              " 'recklessly': 707,\n",
              " 'unlikely': 708,\n",
              " 'Superior': 709,\n",
              " 'Microscopic': 710,\n",
              " 'Off': 711,\n",
              " 'stool': 712,\n",
              " 'arrive': 713,\n",
              " 'signifies': 714,\n",
              " 'controversy_730956589': 715,\n",
              " 'diagnosed': 716,\n",
              " 'Rochester': 717,\n",
              " 'International': 718,\n",
              " 'Nash': 719,\n",
              " 'ecosystems': 720,\n",
              " 'q5020598': 721,\n",
              " 'calories': 722,\n",
              " 'Vain': 723,\n",
              " '4035': 724,\n",
              " 'technoculture': 725,\n",
              " 'Strain_': 726,\n",
              " 'Indonesia': 727,\n",
              " 'wally': 728,\n",
              " 'quacks': 729,\n",
              " 'Mitral': 730,\n",
              " 'edited': 731,\n",
              " 'Morning': 732,\n",
              " 'Everything': 733,\n",
              " 'Fortier': 734,\n",
              " 'Channel': 735,\n",
              " 'Objects': 736,\n",
              " 'Emory': 737,\n",
              " 'certification': 738,\n",
              " 'Iocomm': 739,\n",
              " 'Mixture': 740,\n",
              " 'Albany': 741,\n",
              " 'varied': 742,\n",
              " 'Briggs': 743,\n",
              " 'survivour': 744,\n",
              " 'jailing': 745,\n",
              " 'friends': 746,\n",
              " '100': 747,\n",
              " 'AUBURN': 748,\n",
              " 'Vancouver': 749,\n",
              " 'Feingold': 750,\n",
              " 'sake': 751,\n",
              " 'lmsc': 752,\n",
              " 'again': 753,\n",
              " 'careers': 754,\n",
              " 'funny': 755,\n",
              " 'Hitchcock': 756,\n",
              " 'To': 757,\n",
              " 'microwave': 758,\n",
              " 'INC': 759,\n",
              " 'meant': 760,\n",
              " 'kHz': 761,\n",
              " 'hypertext': 762,\n",
              " '110m': 763,\n",
              " 'Glendenning': 764,\n",
              " 'Super': 765,\n",
              " '7414': 766,\n",
              " 'charity': 767,\n",
              " 'BROWNVM': 768,\n",
              " 'ohsu': 769,\n",
              " 'Deltuvia': 770,\n",
              " 'docking': 771,\n",
              " 'directing': 772,\n",
              " '2x6': 773,\n",
              " 'Got': 774,\n",
              " 'manages': 775,\n",
              " 'mono': 776,\n",
              " 'Anat': 777,\n",
              " 'Allows': 778,\n",
              " 'Prostate': 779,\n",
              " 'Thai': 780,\n",
              " 'manipulate': 781,\n",
              " 'ESTD': 782,\n",
              " 'cosponsored': 783,\n",
              " 'assumption': 784,\n",
              " 'yaw': 785,\n",
              " 'edmoore': 786,\n",
              " 'degree': 787,\n",
              " 'whiteheads': 788,\n",
              " 'fi': 789,\n",
              " 'Dates': 790,\n",
              " 'Physics': 791,\n",
              " 'tailor': 792,\n",
              " 'Evil': 793,\n",
              " 'Sarchoidosis': 794,\n",
              " 'Severity': 795,\n",
              " 'breaks': 796,\n",
              " 'nusunix1': 797,\n",
              " 'budgeted': 798,\n",
              " 'Fairbanks': 799,\n",
              " 'Missouri': 800,\n",
              " 'Virginia': 801,\n",
              " 'bij': 802,\n",
              " 'involving': 803,\n",
              " 'slagen': 804,\n",
              " 'haul': 805,\n",
              " 'widening': 806,\n",
              " 'foo': 807,\n",
              " 'Inconvenience': 808,\n",
              " 'reserve': 809,\n",
              " 'kelley': 810,\n",
              " 'Harvard': 811,\n",
              " 'possibilities': 812,\n",
              " 'Metro': 813,\n",
              " 'cyst': 814,\n",
              " 'rises': 815,\n",
              " 'POSEIDON': 816,\n",
              " 'rotational': 817,\n",
              " 'RELATED': 818,\n",
              " 'affairs': 819,\n",
              " 'WA': 820,\n",
              " '70': 821,\n",
              " 'WSU': 822,\n",
              " '18APR199313560620': 823,\n",
              " 'thom': 824,\n",
              " 'ears': 825,\n",
              " '1bil': 826,\n",
              " 'cardiologists': 827,\n",
              " 'GETTING': 828,\n",
              " 'transduction': 829,\n",
              " 'biased': 830,\n",
              " 'ExtraVehicular': 831,\n",
              " 'stools': 832,\n",
              " 'occasion': 833,\n",
              " 'dgordon': 834,\n",
              " '1d17': 835,\n",
              " 'peaks': 836,\n",
              " '3371': 837,\n",
              " 'option': 838,\n",
              " 'driving': 839,\n",
              " 'english': 840,\n",
              " 'granted': 841,\n",
              " 'husc10': 842,\n",
              " 'intra': 843,\n",
              " 'Copenhagen': 844,\n",
              " 'Tremaine': 845,\n",
              " 'VR': 846,\n",
              " 'activated': 847,\n",
              " 'guy': 848,\n",
              " 'TOWARD': 849,\n",
              " 'unsweetened': 850,\n",
              " 'launchings': 851,\n",
              " 'POISON': 852,\n",
              " 'Traditional': 853,\n",
              " 'sdcc14': 854,\n",
              " 'Jesup': 855,\n",
              " 'Shipman': 856,\n",
              " 'competent': 857,\n",
              " 'card': 858,\n",
              " 'Berthe': 859,\n",
              " 'environmentalist': 860,\n",
              " 'TRAVEL': 861,\n",
              " 'bedrock': 862,\n",
              " 'Psionics': 863,\n",
              " 'Said': 864,\n",
              " 'lupron': 865,\n",
              " 'diarrheal': 866,\n",
              " 'neurasthenics': 867,\n",
              " '2468': 868,\n",
              " 'TRIO': 869,\n",
              " 'bbesler': 870,\n",
              " 'Cellular': 871,\n",
              " 'mall': 872,\n",
              " 'News': 873,\n",
              " 'quarks': 874,\n",
              " 'NOTE': 875,\n",
              " 'Kyger': 876,\n",
              " 'China': 877,\n",
              " 'menon': 878,\n",
              " 'ERIC': 879,\n",
              " '19887': 880,\n",
              " 'Harmful': 881,\n",
              " 'THEnet': 882,\n",
              " 'Explorer': 883,\n",
              " 'supplemented': 884,\n",
              " 'autocorrelation': 885,\n",
              " 'Altimeter': 886,\n",
              " 'falls': 887,\n",
              " 'Comprehensive': 888,\n",
              " '970': 889,\n",
              " 'send': 890,\n",
              " '528': 891,\n",
              " 'Milwaukee': 892,\n",
              " 'theories': 893,\n",
              " 'Logic': 894,\n",
              " 'redesigned': 895,\n",
              " 'verify': 896,\n",
              " 'inappropriateness': 897,\n",
              " 'Dnw': 898,\n",
              " '32': 899,\n",
              " 'speeds': 900,\n",
              " 'quanity': 901,\n",
              " 'Roderick': 902,\n",
              " 'AGE': 903,\n",
              " '35205': 904,\n",
              " 'Lewisville': 905,\n",
              " 'EDWIN': 906,\n",
              " 'Sulfites': 907,\n",
              " 'tablet': 908,\n",
              " 'enormous': 909,\n",
              " 'Clayton': 910,\n",
              " 'negotiating': 911,\n",
              " 'restrained': 912,\n",
              " 'proof': 913,\n",
              " 'Grapes': 914,\n",
              " 'noisy': 915,\n",
              " 'selected': 916,\n",
              " 'practicing': 917,\n",
              " 'relights': 918,\n",
              " 'chrusher': 919,\n",
              " '343': 920,\n",
              " '290': 921,\n",
              " '663': 922,\n",
              " 'confesses': 923,\n",
              " 'Shock': 924,\n",
              " '3261': 925,\n",
              " 'proposing': 926,\n",
              " 'rogers': 927,\n",
              " 'dr': 928,\n",
              " 'manipulative': 929,\n",
              " 'RCSt1a06420': 930,\n",
              " 'Ukraine': 931,\n",
              " 'bd': 932,\n",
              " 'scatter': 933,\n",
              " '0300': 934,\n",
              " 'TAKABE': 935,\n",
              " 'prediction': 936,\n",
              " 'ESAPublications': 937,\n",
              " 'Wow': 938,\n",
              " 'KC6ZPS': 939,\n",
              " 'sounded': 940,\n",
              " 'ESPECIALLY': 941,\n",
              " 'Pioneers': 942,\n",
              " 'ans': 943,\n",
              " '513': 944,\n",
              " 'fresa': 945,\n",
              " 'configuration': 946,\n",
              " 'procurement': 947,\n",
              " 'sweater': 948,\n",
              " 'worthless': 949,\n",
              " 'Radius': 950,\n",
              " 'jgd': 951,\n",
              " 'Paeth': 952,\n",
              " 'Morowitz': 953,\n",
              " 'soverign': 954,\n",
              " 'multicenter': 955,\n",
              " 'CanadARMs': 956,\n",
              " 'flowed': 957,\n",
              " 'Suggestions': 958,\n",
              " 'Orbits': 959,\n",
              " 'Afterwards': 960,\n",
              " 'poles': 961,\n",
              " 'moisturizing': 962,\n",
              " 'Intern': 963,\n",
              " 'LJ': 964,\n",
              " 'Silent': 965,\n",
              " 'sasquatch': 966,\n",
              " 'sails': 967,\n",
              " 'olsen': 968,\n",
              " 'urban': 969,\n",
              " '85m': 970,\n",
              " 'Extensive': 971,\n",
              " 'motive': 972,\n",
              " 'sad': 973,\n",
              " 'Meredith': 974,\n",
              " 'tubal': 975,\n",
              " 'Caroline': 976,\n",
              " 'Updated': 977,\n",
              " 'misused': 978,\n",
              " 'Rooney': 979,\n",
              " 'snags': 980,\n",
              " 'sideways': 981,\n",
              " 'protected': 982,\n",
              " 'MALARD': 983,\n",
              " 'Following': 984,\n",
              " 'dwebb': 985,\n",
              " 'becoming': 986,\n",
              " '539': 987,\n",
              " 'HPR': 988,\n",
              " 'MODELS': 989,\n",
              " 'inherent': 990,\n",
              " 'warranted': 991,\n",
              " 'trivial': 992,\n",
              " '134436': 993,\n",
              " 'factory': 994,\n",
              " 'publications': 995,\n",
              " 'Annihilation': 996,\n",
              " 'Frozen': 997,\n",
              " 'clas': 998,\n",
              " 'darkside': 999,\n",
              " 'supported': 1000,\n",
              " ...}"
            ]
          },
          "metadata": {},
          "execution_count": 16
        }
      ]
    },
    {
      "cell_type": "code",
      "source": [
        "word_vecs= [[word_to_num[word]for word in email]for email in clean_X]\n",
        "\n"
      ],
      "metadata": {
        "id": "44ANdcuYINvN"
      },
      "execution_count": null,
      "outputs": []
    },
    {
      "cell_type": "code",
      "source": [
        "max_len = 0\n",
        "position = 0\n",
        "for i, email in enumerate(clean_X):\n",
        "    if len(email) > max_len:\n",
        "        max_len = len(email)\n",
        "        position = i\n",
        "print(f\"length of longest email = {max_len}, in email number ={position}\")"
      ],
      "metadata": {
        "colab": {
          "base_uri": "https://localhost:8080/"
        },
        "id": "AVJ-vM_TIm12",
        "outputId": "b9c7a5c5-0a75-46fa-9c4a-3613511eba05"
      },
      "execution_count": null,
      "outputs": [
        {
          "output_type": "stream",
          "name": "stdout",
          "text": [
            "length of longest email = 5937, in email number =1169\n"
          ]
        }
      ]
    },
    {
      "cell_type": "code",
      "source": [
        "pad_word_vecs = sequence.pad_sequences(word_vecs,\n",
        "                                       maxlen=max_len,\n",
        "                                       padding='pre')"
      ],
      "metadata": {
        "id": "H3WVtBVDJZxc"
      },
      "execution_count": null,
      "outputs": []
    },
    {
      "cell_type": "code",
      "source": [
        "pad_word_vecs[1168]"
      ],
      "metadata": {
        "colab": {
          "base_uri": "https://localhost:8080/"
        },
        "id": "lT_8Km2tKAl0",
        "outputId": "42fef0ba-8c15-4cb1-d89b-28cd552aa9e2"
      },
      "execution_count": null,
      "outputs": [
        {
          "output_type": "execute_result",
          "data": {
            "text/plain": [
              "array([    0,     0,     0, ..., 31252,  3689, 24292], dtype=int32)"
            ]
          },
          "metadata": {},
          "execution_count": 20
        }
      ]
    },
    {
      "cell_type": "code",
      "source": [
        "from sklearn.model_selection import train_test_split\n",
        "import pandas as pd"
      ],
      "metadata": {
        "id": "iiX19A8-KSvu"
      },
      "execution_count": null,
      "outputs": []
    },
    {
      "cell_type": "code",
      "source": [
        "Xtrain, Xtest, ytrain, ytest = train_test_split(pad_word_vecs,y)"
      ],
      "metadata": {
        "id": "Si2C_hLBKemB"
      },
      "execution_count": null,
      "outputs": []
    },
    {
      "cell_type": "code",
      "source": [
        "model = Sequential()"
      ],
      "metadata": {
        "id": "tdXMPSQ8Kp_K"
      },
      "execution_count": null,
      "outputs": []
    },
    {
      "cell_type": "code",
      "source": [
        "Xtrain.shape"
      ],
      "metadata": {
        "colab": {
          "base_uri": "https://localhost:8080/"
        },
        "id": "82Jk42NlK-sH",
        "outputId": "6df6a7d0-2f74-4d43-83f8-6d85b85885ab"
      },
      "execution_count": null,
      "outputs": [
        {
          "output_type": "execute_result",
          "data": {
            "text/plain": [
              "(890, 5937)"
            ]
          },
          "metadata": {},
          "execution_count": 24
        }
      ]
    },
    {
      "cell_type": "code",
      "source": [
        "model.add(Embedding(len(vocab_list),16, input_length=max_len))"
      ],
      "metadata": {
        "colab": {
          "base_uri": "https://localhost:8080/"
        },
        "id": "QjTPVnoVLBb-",
        "outputId": "36a906ad-6be3-4a64-cb33-658072c75d64"
      },
      "execution_count": null,
      "outputs": [
        {
          "output_type": "stream",
          "name": "stderr",
          "text": [
            "/usr/local/lib/python3.11/dist-packages/keras/src/layers/core/embedding.py:90: UserWarning: Argument `input_length` is deprecated. Just remove it.\n",
            "  warnings.warn(\n"
          ]
        }
      ]
    },
    {
      "cell_type": "code",
      "source": [
        "model.add(LSTM(64))"
      ],
      "metadata": {
        "id": "lE7wNibpLNt8"
      },
      "execution_count": null,
      "outputs": []
    },
    {
      "cell_type": "code",
      "source": [
        "model.add(Dense(1, activation ='softmax'))"
      ],
      "metadata": {
        "id": "TVWihr4oL2oV"
      },
      "execution_count": null,
      "outputs": []
    },
    {
      "cell_type": "code",
      "source": [
        "model.summary()"
      ],
      "metadata": {
        "colab": {
          "base_uri": "https://localhost:8080/",
          "height": 238
        },
        "id": "r9dGWH0gNUHh",
        "outputId": "1d0d45d1-9c71-470e-d0c2-07b264d0bf7c"
      },
      "execution_count": null,
      "outputs": [
        {
          "output_type": "display_data",
          "data": {
            "text/plain": [
              "\u001b[1mModel: \"sequential\"\u001b[0m\n"
            ],
            "text/html": [
              "<pre style=\"white-space:pre;overflow-x:auto;line-height:normal;font-family:Menlo,'DejaVu Sans Mono',consolas,'Courier New',monospace\"><span style=\"font-weight: bold\">Model: \"sequential\"</span>\n",
              "</pre>\n"
            ]
          },
          "metadata": {}
        },
        {
          "output_type": "display_data",
          "data": {
            "text/plain": [
              "┏━━━━━━━━━━━━━━━━━━━━━━━━━━━━━━━━━━━━━━┳━━━━━━━━━━━━━━━━━━━━━━━━━━━━━┳━━━━━━━━━━━━━━━━━┓\n",
              "┃\u001b[1m \u001b[0m\u001b[1mLayer (type)                        \u001b[0m\u001b[1m \u001b[0m┃\u001b[1m \u001b[0m\u001b[1mOutput Shape               \u001b[0m\u001b[1m \u001b[0m┃\u001b[1m \u001b[0m\u001b[1m        Param #\u001b[0m\u001b[1m \u001b[0m┃\n",
              "┡━━━━━━━━━━━━━━━━━━━━━━━━━━━━━━━━━━━━━━╇━━━━━━━━━━━━━━━━━━━━━━━━━━━━━╇━━━━━━━━━━━━━━━━━┩\n",
              "│ embedding (\u001b[38;5;33mEmbedding\u001b[0m)                │ ?                           │     \u001b[38;5;34m0\u001b[0m (unbuilt) │\n",
              "├──────────────────────────────────────┼─────────────────────────────┼─────────────────┤\n",
              "│ lstm (\u001b[38;5;33mLSTM\u001b[0m)                          │ ?                           │     \u001b[38;5;34m0\u001b[0m (unbuilt) │\n",
              "├──────────────────────────────────────┼─────────────────────────────┼─────────────────┤\n",
              "│ dense (\u001b[38;5;33mDense\u001b[0m)                        │ ?                           │     \u001b[38;5;34m0\u001b[0m (unbuilt) │\n",
              "└──────────────────────────────────────┴─────────────────────────────┴─────────────────┘\n"
            ],
            "text/html": [
              "<pre style=\"white-space:pre;overflow-x:auto;line-height:normal;font-family:Menlo,'DejaVu Sans Mono',consolas,'Courier New',monospace\">┏━━━━━━━━━━━━━━━━━━━━━━━━━━━━━━━━━━━━━━┳━━━━━━━━━━━━━━━━━━━━━━━━━━━━━┳━━━━━━━━━━━━━━━━━┓\n",
              "┃<span style=\"font-weight: bold\"> Layer (type)                         </span>┃<span style=\"font-weight: bold\"> Output Shape                </span>┃<span style=\"font-weight: bold\">         Param # </span>┃\n",
              "┡━━━━━━━━━━━━━━━━━━━━━━━━━━━━━━━━━━━━━━╇━━━━━━━━━━━━━━━━━━━━━━━━━━━━━╇━━━━━━━━━━━━━━━━━┩\n",
              "│ embedding (<span style=\"color: #0087ff; text-decoration-color: #0087ff\">Embedding</span>)                │ ?                           │     <span style=\"color: #00af00; text-decoration-color: #00af00\">0</span> (unbuilt) │\n",
              "├──────────────────────────────────────┼─────────────────────────────┼─────────────────┤\n",
              "│ lstm (<span style=\"color: #0087ff; text-decoration-color: #0087ff\">LSTM</span>)                          │ ?                           │     <span style=\"color: #00af00; text-decoration-color: #00af00\">0</span> (unbuilt) │\n",
              "├──────────────────────────────────────┼─────────────────────────────┼─────────────────┤\n",
              "│ dense (<span style=\"color: #0087ff; text-decoration-color: #0087ff\">Dense</span>)                        │ ?                           │     <span style=\"color: #00af00; text-decoration-color: #00af00\">0</span> (unbuilt) │\n",
              "└──────────────────────────────────────┴─────────────────────────────┴─────────────────┘\n",
              "</pre>\n"
            ]
          },
          "metadata": {}
        },
        {
          "output_type": "display_data",
          "data": {
            "text/plain": [
              "\u001b[1m Total params: \u001b[0m\u001b[38;5;34m0\u001b[0m (0.00 B)\n"
            ],
            "text/html": [
              "<pre style=\"white-space:pre;overflow-x:auto;line-height:normal;font-family:Menlo,'DejaVu Sans Mono',consolas,'Courier New',monospace\"><span style=\"font-weight: bold\"> Total params: </span><span style=\"color: #00af00; text-decoration-color: #00af00\">0</span> (0.00 B)\n",
              "</pre>\n"
            ]
          },
          "metadata": {}
        },
        {
          "output_type": "display_data",
          "data": {
            "text/plain": [
              "\u001b[1m Trainable params: \u001b[0m\u001b[38;5;34m0\u001b[0m (0.00 B)\n"
            ],
            "text/html": [
              "<pre style=\"white-space:pre;overflow-x:auto;line-height:normal;font-family:Menlo,'DejaVu Sans Mono',consolas,'Courier New',monospace\"><span style=\"font-weight: bold\"> Trainable params: </span><span style=\"color: #00af00; text-decoration-color: #00af00\">0</span> (0.00 B)\n",
              "</pre>\n"
            ]
          },
          "metadata": {}
        },
        {
          "output_type": "display_data",
          "data": {
            "text/plain": [
              "\u001b[1m Non-trainable params: \u001b[0m\u001b[38;5;34m0\u001b[0m (0.00 B)\n"
            ],
            "text/html": [
              "<pre style=\"white-space:pre;overflow-x:auto;line-height:normal;font-family:Menlo,'DejaVu Sans Mono',consolas,'Courier New',monospace\"><span style=\"font-weight: bold\"> Non-trainable params: </span><span style=\"color: #00af00; text-decoration-color: #00af00\">0</span> (0.00 B)\n",
              "</pre>\n"
            ]
          },
          "metadata": {}
        }
      ]
    },
    {
      "cell_type": "code",
      "source": [
        "model.compile(optimizer='rmsprop',\n",
        "              loss='binary_crossentropy',\n",
        "              metrics=['accuracy'])"
      ],
      "metadata": {
        "id": "T6kNU_IPMa2X"
      },
      "execution_count": null,
      "outputs": []
    },
    {
      "cell_type": "code",
      "source": [
        "model.fit(Xtrain, ytrain, epochs=10, batch_size=10)"
      ],
      "metadata": {
        "colab": {
          "base_uri": "https://localhost:8080/"
        },
        "id": "H9Z19jI2ORpD",
        "outputId": "4c67b5a7-42fd-44b3-e27b-e7cf5b41cb99"
      },
      "execution_count": null,
      "outputs": [
        {
          "output_type": "stream",
          "name": "stdout",
          "text": [
            "Epoch 1/10\n",
            "\u001b[1m89/89\u001b[0m \u001b[32m━━━━━━━━━━━━━━━━━━━━\u001b[0m\u001b[37m\u001b[0m \u001b[1m12s\u001b[0m 135ms/step - accuracy: 0.5008 - loss: 0.0615\n",
            "Epoch 2/10\n",
            "\u001b[1m89/89\u001b[0m \u001b[32m━━━━━━━━━━━━━━━━━━━━\u001b[0m\u001b[37m\u001b[0m \u001b[1m20s\u001b[0m 134ms/step - accuracy: 0.5384 - loss: 0.0596\n",
            "Epoch 3/10\n",
            "\u001b[1m89/89\u001b[0m \u001b[32m━━━━━━━━━━━━━━━━━━━━\u001b[0m\u001b[37m\u001b[0m \u001b[1m21s\u001b[0m 145ms/step - accuracy: 0.5040 - loss: 0.0224\n",
            "Epoch 4/10\n",
            "\u001b[1m89/89\u001b[0m \u001b[32m━━━━━━━━━━━━━━━━━━━━\u001b[0m\u001b[37m\u001b[0m \u001b[1m20s\u001b[0m 135ms/step - accuracy: 0.5027 - loss: 0.0075\n",
            "Epoch 5/10\n",
            "\u001b[1m89/89\u001b[0m \u001b[32m━━━━━━━━━━━━━━━━━━━━\u001b[0m\u001b[37m\u001b[0m \u001b[1m20s\u001b[0m 134ms/step - accuracy: 0.5143 - loss: 0.0201\n",
            "Epoch 6/10\n",
            "\u001b[1m89/89\u001b[0m \u001b[32m━━━━━━━━━━━━━━━━━━━━\u001b[0m\u001b[37m\u001b[0m \u001b[1m20s\u001b[0m 135ms/step - accuracy: 0.5072 - loss: 0.0140\n",
            "Epoch 7/10\n",
            "\u001b[1m89/89\u001b[0m \u001b[32m━━━━━━━━━━━━━━━━━━━━\u001b[0m\u001b[37m\u001b[0m \u001b[1m20s\u001b[0m 135ms/step - accuracy: 0.5033 - loss: 5.3423e-04\n",
            "Epoch 8/10\n",
            "\u001b[1m89/89\u001b[0m \u001b[32m━━━━━━━━━━━━━━━━━━━━\u001b[0m\u001b[37m\u001b[0m \u001b[1m20s\u001b[0m 135ms/step - accuracy: 0.5132 - loss: 0.0165\n",
            "Epoch 9/10\n",
            "\u001b[1m89/89\u001b[0m \u001b[32m━━━━━━━━━━━━━━━━━━━━\u001b[0m\u001b[37m\u001b[0m \u001b[1m20s\u001b[0m 135ms/step - accuracy: 0.4925 - loss: 8.7576e-05\n",
            "Epoch 10/10\n",
            "\u001b[1m89/89\u001b[0m \u001b[32m━━━━━━━━━━━━━━━━━━━━\u001b[0m\u001b[37m\u001b[0m \u001b[1m12s\u001b[0m 134ms/step - accuracy: 0.4871 - loss: 0.0086\n"
          ]
        },
        {
          "output_type": "execute_result",
          "data": {
            "text/plain": [
              "<keras.src.callbacks.history.History at 0x7fd31d402150>"
            ]
          },
          "metadata": {},
          "execution_count": 31
        }
      ]
    },
    {
      "cell_type": "code",
      "source": [
        "loss, accuracy = model.evaluate(Xtest, ytest, verbose=0)\n",
        "print(f\"Test Loss: {loss:.4f}\")\n",
        "print(f\"Test Accuracy: {accuracy:.4f}\")"
      ],
      "metadata": {
        "colab": {
          "base_uri": "https://localhost:8080/"
        },
        "id": "3gYFbkzMVX1g",
        "outputId": "22a9f028-9321-4213-808c-5fb3a32698bd"
      },
      "execution_count": null,
      "outputs": [
        {
          "output_type": "stream",
          "name": "stderr",
          "text": [
            "/usr/local/lib/python3.11/dist-packages/keras/src/ops/nn.py:907: UserWarning: You are using a softmax over axis -1 of a tensor of shape (None, 1). This axis has size 1. The softmax operation will always return the value 1, which is likely not what you intended. Did you mean to use a sigmoid instead?\n",
            "  warnings.warn(\n"
          ]
        },
        {
          "output_type": "stream",
          "name": "stdout",
          "text": [
            "Test Loss: 0.2669\n",
            "Test Accuracy: 0.4882\n"
          ]
        }
      ]
    },
    {
      "cell_type": "code",
      "source": [
        "model.save(\"my_model.h5\")\n"
      ],
      "metadata": {
        "colab": {
          "base_uri": "https://localhost:8080/"
        },
        "id": "SxFQglTzWLx0",
        "outputId": "881bef8e-5b64-4219-a710-cbbf18b00d6a"
      },
      "execution_count": null,
      "outputs": [
        {
          "output_type": "stream",
          "name": "stderr",
          "text": [
            "WARNING:absl:You are saving your model as an HDF5 file via `model.save()` or `keras.saving.save_model(model)`. This file format is considered legacy. We recommend using instead the native Keras format, e.g. `model.save('my_model.keras')` or `keras.saving.save_model(model, 'my_model.keras')`. \n"
          ]
        }
      ]
    },
    {
      "cell_type": "code",
      "source": [
        "model = load_model('my_model.h5')\n"
      ],
      "metadata": {
        "colab": {
          "base_uri": "https://localhost:8080/"
        },
        "id": "46bBuQKKWLqz",
        "outputId": "85cb16fe-f0df-467d-c17b-555f297d9985"
      },
      "execution_count": null,
      "outputs": [
        {
          "output_type": "stream",
          "name": "stderr",
          "text": [
            "WARNING:absl:Compiled the loaded model, but the compiled metrics have yet to be built. `model.compile_metrics` will be empty until you train or evaluate the model.\n"
          ]
        }
      ]
    }
  ]
}